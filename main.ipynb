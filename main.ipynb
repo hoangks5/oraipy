{
 "cells": [
  {
   "cell_type": "code",
   "execution_count": null,
   "metadata": {},
   "outputs": [],
   "source": [
    "PRIVATE_KEY = open('.env','r',encoding='utf-8').read()"
   ]
  },
  {
   "cell_type": "code",
   "execution_count": 1,
   "metadata": {},
   "outputs": [
    {
     "ename": "RuntimeError",
     "evalue": "Unable to parse base64 value",
     "output_type": "error",
     "traceback": [
      "\u001b[0;31m---------------------------------------------------------------------------\u001b[0m",
      "\u001b[0;31mError\u001b[0m                                     Traceback (most recent call last)",
      "File \u001b[0;32m/Library/Frameworks/Python.framework/Versions/3.8/lib/python3.8/site-packages/cosmpy/crypto/keypairs.py:35\u001b[0m, in \u001b[0;36m_base64_decode\u001b[0;34m(value)\u001b[0m\n\u001b[1;32m     34\u001b[0m \u001b[39mtry\u001b[39;00m:\n\u001b[0;32m---> 35\u001b[0m     \u001b[39mreturn\u001b[39;00m base64\u001b[39m.\u001b[39;49mb64decode(value)\n\u001b[1;32m     36\u001b[0m \u001b[39mexcept\u001b[39;00m \u001b[39mException\u001b[39;00m \u001b[39mas\u001b[39;00m error:\n",
      "File \u001b[0;32m/Library/Frameworks/Python.framework/Versions/3.8/lib/python3.8/base64.py:87\u001b[0m, in \u001b[0;36mb64decode\u001b[0;34m(s, altchars, validate)\u001b[0m\n\u001b[1;32m     86\u001b[0m     \u001b[39mraise\u001b[39;00m binascii\u001b[39m.\u001b[39mError(\u001b[39m'\u001b[39m\u001b[39mNon-base64 digit found\u001b[39m\u001b[39m'\u001b[39m)\n\u001b[0;32m---> 87\u001b[0m \u001b[39mreturn\u001b[39;00m binascii\u001b[39m.\u001b[39;49ma2b_base64(s)\n",
      "\u001b[0;31mError\u001b[0m: Incorrect padding",
      "\nThe above exception was the direct cause of the following exception:\n",
      "\u001b[0;31mRuntimeError\u001b[0m                              Traceback (most recent call last)",
      "Cell \u001b[0;32mIn [1], line 8\u001b[0m\n\u001b[1;32m      5\u001b[0m private_key \u001b[39m=\u001b[39m PrivateKey()\n\u001b[1;32m      7\u001b[0m \u001b[39m# To recover an existing private key:\u001b[39;00m\n\u001b[0;32m----> 8\u001b[0m private_key \u001b[39m=\u001b[39m PrivateKey(\u001b[39m'\u001b[39m\u001b[39m<base64 encoded private key>\u001b[39m\u001b[39m'\u001b[39m)\n",
      "File \u001b[0;32m/Library/Frameworks/Python.framework/Versions/3.8/lib/python3.8/site-packages/cosmpy/crypto/keypairs.py:149\u001b[0m, in \u001b[0;36mPrivateKey.__init__\u001b[0;34m(self, private_key)\u001b[0m\n\u001b[1;32m    145\u001b[0m     \u001b[39mself\u001b[39m\u001b[39m.\u001b[39m_signing_key \u001b[39m=\u001b[39m ecdsa\u001b[39m.\u001b[39mSigningKey\u001b[39m.\u001b[39mfrom_string(\n\u001b[1;32m    146\u001b[0m         private_key, curve\u001b[39m=\u001b[39m\u001b[39mself\u001b[39m\u001b[39m.\u001b[39mcurve, hashfunc\u001b[39m=\u001b[39m\u001b[39mself\u001b[39m\u001b[39m.\u001b[39mhash_function\n\u001b[1;32m    147\u001b[0m     )\n\u001b[1;32m    148\u001b[0m \u001b[39melif\u001b[39;00m \u001b[39misinstance\u001b[39m(private_key, \u001b[39mstr\u001b[39m):\n\u001b[0;32m--> 149\u001b[0m     raw_private_key \u001b[39m=\u001b[39m _base64_decode(private_key)\n\u001b[1;32m    150\u001b[0m     \u001b[39mself\u001b[39m\u001b[39m.\u001b[39m_signing_key \u001b[39m=\u001b[39m ecdsa\u001b[39m.\u001b[39mSigningKey\u001b[39m.\u001b[39mfrom_string(\n\u001b[1;32m    151\u001b[0m         raw_private_key, curve\u001b[39m=\u001b[39m\u001b[39mself\u001b[39m\u001b[39m.\u001b[39mcurve, hashfunc\u001b[39m=\u001b[39m\u001b[39mself\u001b[39m\u001b[39m.\u001b[39mhash_function\n\u001b[1;32m    152\u001b[0m     )\n\u001b[1;32m    154\u001b[0m \u001b[39melse\u001b[39;00m:\n",
      "File \u001b[0;32m/Library/Frameworks/Python.framework/Versions/3.8/lib/python3.8/site-packages/cosmpy/crypto/keypairs.py:37\u001b[0m, in \u001b[0;36m_base64_decode\u001b[0;34m(value)\u001b[0m\n\u001b[1;32m     35\u001b[0m     \u001b[39mreturn\u001b[39;00m base64\u001b[39m.\u001b[39mb64decode(value)\n\u001b[1;32m     36\u001b[0m \u001b[39mexcept\u001b[39;00m \u001b[39mException\u001b[39;00m \u001b[39mas\u001b[39;00m error:\n\u001b[0;32m---> 37\u001b[0m     \u001b[39mraise\u001b[39;00m \u001b[39mRuntimeError\u001b[39;00m(\u001b[39m\"\u001b[39m\u001b[39mUnable to parse base64 value\u001b[39m\u001b[39m\"\u001b[39m) \u001b[39mfrom\u001b[39;00m \u001b[39merror\u001b[39;00m\n",
      "\u001b[0;31mRuntimeError\u001b[0m: Unable to parse base64 value"
     ]
    }
   ],
   "source": [
    "from cosmpy.aerial.wallet import LocalWallet\n",
    "from cosmpy.crypto.keypairs import PrivateKey\n",
    "\n",
    "# To create a random private key:\n",
    "private_key = PrivateKey()\n",
    "\n",
    "# To recover an existing private key:\n",
    "private_key = PrivateKey('<base64 encoded private key>')"
   ]
  },
  {
   "cell_type": "code",
   "execution_count": null,
   "metadata": {},
   "outputs": [],
   "source": []
  }
 ],
 "metadata": {
  "kernelspec": {
   "display_name": "Python 3.8.0 64-bit",
   "language": "python",
   "name": "python3"
  },
  "language_info": {
   "codemirror_mode": {
    "name": "ipython",
    "version": 3
   },
   "file_extension": ".py",
   "mimetype": "text/x-python",
   "name": "python",
   "nbconvert_exporter": "python",
   "pygments_lexer": "ipython3",
   "version": "3.8.0"
  },
  "orig_nbformat": 4,
  "vscode": {
   "interpreter": {
    "hash": "aee8b7b246df8f9039afb4144a1f6fd8d2ca17a180786b69acc140d282b71a49"
   }
  }
 },
 "nbformat": 4,
 "nbformat_minor": 2
}
