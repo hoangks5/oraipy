{
 "cells": [
  {
   "cell_type": "code",
   "execution_count": 2,
   "metadata": {},
   "outputs": [],
   "source": [
    "PRIVATE_KEY = open('.env','r',encoding='utf-8').read()"
   ]
  },
  {
   "cell_type": "code",
   "execution_count": 6,
   "metadata": {},
   "outputs": [],
   "source": [
    "from cosmpy.aerial.client import LedgerClient, NetworkConfig"
   ]
  },
  {
   "cell_type": "code",
   "execution_count": 8,
   "metadata": {},
   "outputs": [],
   "source": [
    "cfg = NetworkConfig(\n",
    "    chain_id=\"Oraichain\",\n",
    "    url=\"grpc+http://18.223.242.70:9090\",\n",
    "    fee_minimum_gas_price=1,\n",
    "    fee_denomination=\"orai\",\n",
    "    staking_denomination=\"orai\",\n",
    ")\n",
    "client = LedgerClient(cfg)"
   ]
  },
  {
   "cell_type": "code",
   "execution_count": 11,
   "metadata": {},
   "outputs": [],
   "source": [
    "from cosmpy.aerial.wallet import LocalWallet\n",
    "from cosmpy.crypto.keypairs import PrivateKey\n",
    "\n",
    "\n",
    "\n",
    "from bip_utils import Bip39SeedGenerator, Bip44, Bip44Coins\n",
    "\n",
    "seed_bytes = Bip39SeedGenerator(PRIVATE_KEY).Generate()\n",
    "bip44_def_ctx = Bip44.FromSeed(seed_bytes, Bip44Coins.COSMOS).DeriveDefaultPath()\n",
    "\n",
    "wallet = LocalWallet(PrivateKey(bip44_def_ctx.PrivateKey().Raw().ToBytes()))"
   ]
  },
  {
   "cell_type": "code",
   "execution_count": 13,
   "metadata": {},
   "outputs": [
    {
     "name": "stdout",
     "output_type": "stream",
     "text": [
      "Address: fetch1zze9d5xk2xa2g44xdf7g9eltlzvn5hm2hsklgj\n"
     ]
    },
    {
     "ename": "_InactiveRpcError",
     "evalue": "<_InactiveRpcError of RPC that terminated with:\n\tstatus = StatusCode.INVALID_ARGUMENT\n\tdetails = \"rpc error: code = InvalidArgument desc = invalid address: invalid Bech32 prefix; expected orai, got fetch: invalid request\"\n\tdebug_error_string = \"{\"created\":\"@1666778679.173515000\",\"description\":\"Error received from peer ipv4:18.223.242.70:9090\",\"file\":\"src/core/lib/surface/call.cc\",\"file_line\":967,\"grpc_message\":\"rpc error: code = InvalidArgument desc = invalid address: invalid Bech32 prefix; expected orai, got fetch: invalid request\",\"grpc_status\":3}\"\n>",
     "output_type": "error",
     "traceback": [
      "\u001b[0;31m---------------------------------------------------------------------------\u001b[0m",
      "\u001b[0;31m_InactiveRpcError\u001b[0m                         Traceback (most recent call last)",
      "Cell \u001b[0;32mIn [13], line 4\u001b[0m\n\u001b[1;32m      2\u001b[0m address \u001b[39m=\u001b[39m wallet\u001b[39m.\u001b[39maddress()\n\u001b[1;32m      3\u001b[0m \u001b[39mprint\u001b[39m(\u001b[39mf\u001b[39m\u001b[39m\"\u001b[39m\u001b[39mAddress: \u001b[39m\u001b[39m{\u001b[39;00maddress\u001b[39m}\u001b[39;00m\u001b[39m\"\u001b[39m)\n\u001b[0;32m----> 4\u001b[0m balance \u001b[39m=\u001b[39m client\u001b[39m.\u001b[39mquery_bank_balance(address, \u001b[39m\"\u001b[39m\u001b[39morai\u001b[39m\u001b[39m\"\u001b[39m)\n",
      "File \u001b[0;32m/Library/Frameworks/Python.framework/Versions/3.8/lib/python3.8/site-packages/cosmpy/aerial/client/__init__.py:287\u001b[0m, in \u001b[0;36mLedgerClient.query_bank_balance\u001b[0;34m(self, address, denom)\u001b[0m\n\u001b[1;32m    280\u001b[0m denom \u001b[39m=\u001b[39m denom \u001b[39mor\u001b[39;00m \u001b[39mself\u001b[39m\u001b[39m.\u001b[39mnetwork_config\u001b[39m.\u001b[39mfee_denomination\n\u001b[1;32m    282\u001b[0m req \u001b[39m=\u001b[39m QueryBalanceRequest(\n\u001b[1;32m    283\u001b[0m     address\u001b[39m=\u001b[39m\u001b[39mstr\u001b[39m(address),\n\u001b[1;32m    284\u001b[0m     denom\u001b[39m=\u001b[39mdenom,\n\u001b[1;32m    285\u001b[0m )\n\u001b[0;32m--> 287\u001b[0m resp \u001b[39m=\u001b[39m \u001b[39mself\u001b[39;49m\u001b[39m.\u001b[39;49mbank\u001b[39m.\u001b[39;49mBalance(req)\n\u001b[1;32m    288\u001b[0m \u001b[39massert\u001b[39;00m resp\u001b[39m.\u001b[39mbalance\u001b[39m.\u001b[39mdenom \u001b[39m==\u001b[39m denom  \u001b[39m# sanity check\u001b[39;00m\n\u001b[1;32m    290\u001b[0m \u001b[39mreturn\u001b[39;00m \u001b[39mint\u001b[39m(resp\u001b[39m.\u001b[39mbalance\u001b[39m.\u001b[39mamount)\n",
      "File \u001b[0;32m/Library/Frameworks/Python.framework/Versions/3.8/lib/python3.8/site-packages/grpc/_channel.py:946\u001b[0m, in \u001b[0;36m_UnaryUnaryMultiCallable.__call__\u001b[0;34m(self, request, timeout, metadata, credentials, wait_for_ready, compression)\u001b[0m\n\u001b[1;32m    937\u001b[0m \u001b[39mdef\u001b[39;00m \u001b[39m__call__\u001b[39m(\u001b[39mself\u001b[39m,\n\u001b[1;32m    938\u001b[0m              request,\n\u001b[1;32m    939\u001b[0m              timeout\u001b[39m=\u001b[39m\u001b[39mNone\u001b[39;00m,\n\u001b[0;32m   (...)\u001b[0m\n\u001b[1;32m    942\u001b[0m              wait_for_ready\u001b[39m=\u001b[39m\u001b[39mNone\u001b[39;00m,\n\u001b[1;32m    943\u001b[0m              compression\u001b[39m=\u001b[39m\u001b[39mNone\u001b[39;00m):\n\u001b[1;32m    944\u001b[0m     state, call, \u001b[39m=\u001b[39m \u001b[39mself\u001b[39m\u001b[39m.\u001b[39m_blocking(request, timeout, metadata, credentials,\n\u001b[1;32m    945\u001b[0m                                   wait_for_ready, compression)\n\u001b[0;32m--> 946\u001b[0m     \u001b[39mreturn\u001b[39;00m _end_unary_response_blocking(state, call, \u001b[39mFalse\u001b[39;49;00m, \u001b[39mNone\u001b[39;49;00m)\n",
      "File \u001b[0;32m/Library/Frameworks/Python.framework/Versions/3.8/lib/python3.8/site-packages/grpc/_channel.py:849\u001b[0m, in \u001b[0;36m_end_unary_response_blocking\u001b[0;34m(state, call, with_call, deadline)\u001b[0m\n\u001b[1;32m    847\u001b[0m         \u001b[39mreturn\u001b[39;00m state\u001b[39m.\u001b[39mresponse\n\u001b[1;32m    848\u001b[0m \u001b[39melse\u001b[39;00m:\n\u001b[0;32m--> 849\u001b[0m     \u001b[39mraise\u001b[39;00m _InactiveRpcError(state)\n",
      "\u001b[0;31m_InactiveRpcError\u001b[0m: <_InactiveRpcError of RPC that terminated with:\n\tstatus = StatusCode.INVALID_ARGUMENT\n\tdetails = \"rpc error: code = InvalidArgument desc = invalid address: invalid Bech32 prefix; expected orai, got fetch: invalid request\"\n\tdebug_error_string = \"{\"created\":\"@1666778679.173515000\",\"description\":\"Error received from peer ipv4:18.223.242.70:9090\",\"file\":\"src/core/lib/surface/call.cc\",\"file_line\":967,\"grpc_message\":\"rpc error: code = InvalidArgument desc = invalid address: invalid Bech32 prefix; expected orai, got fetch: invalid request\",\"grpc_status\":3}\"\n>"
     ]
    }
   ],
   "source": [
    "address = wallet.address()\n",
    "print(f\"Address: {address}\")\n",
    "balance = client.query_bank_balance(address, \"orai\")"
   ]
  },
  {
   "cell_type": "code",
   "execution_count": 19,
   "metadata": {},
   "outputs": [],
   "source": [
    "alice = LocalWallet(PrivateKey(\"L1GsisFk+oaIug3XZlILWk2pJDVFS5aPJsrovvUEDrE=\"), prefix=\"custom_prefix\")"
   ]
  },
  {
   "cell_type": "code",
   "execution_count": 20,
   "metadata": {},
   "outputs": [
    {
     "data": {
      "text/plain": [
       "'custom_prefix1testlapquzzyuyl27kt3xmxytxu8nm593rgp5v'"
      ]
     },
     "execution_count": 20,
     "metadata": {},
     "output_type": "execute_result"
    }
   ],
   "source": [
    "alice"
   ]
  },
  {
   "cell_type": "code",
   "execution_count": null,
   "metadata": {},
   "outputs": [],
   "source": []
  }
 ],
 "metadata": {
  "kernelspec": {
   "display_name": "Python 3.8.0 64-bit",
   "language": "python",
   "name": "python3"
  },
  "language_info": {
   "codemirror_mode": {
    "name": "ipython",
    "version": 3
   },
   "file_extension": ".py",
   "mimetype": "text/x-python",
   "name": "python",
   "nbconvert_exporter": "python",
   "pygments_lexer": "ipython3",
   "version": "3.8.0"
  },
  "orig_nbformat": 4,
  "vscode": {
   "interpreter": {
    "hash": "aee8b7b246df8f9039afb4144a1f6fd8d2ca17a180786b69acc140d282b71a49"
   }
  }
 },
 "nbformat": 4,
 "nbformat_minor": 2
}
