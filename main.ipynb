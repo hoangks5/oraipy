{
 "cells": [
  {
   "cell_type": "code",
   "execution_count": 2,
   "metadata": {},
   "outputs": [],
   "source": [
    "PRIVATE_KEY = open('.env','r',encoding='utf-8').read()"
   ]
  },
  {
   "cell_type": "code",
   "execution_count": 22,
   "metadata": {},
   "outputs": [],
   "source": [
    "from cosmpy.aerial.client import LedgerClient, NetworkConfig\n",
    "client = LedgerClient(NetworkConfig.fetch_mainnet())"
   ]
  },
  {
   "cell_type": "code",
   "execution_count": 8,
   "metadata": {},
   "outputs": [],
   "source": [
    "cfg = NetworkConfig(\n",
    "    chain_id=\"Oraichain\",\n",
    "    url=\"grpc+http://18.223.242.70:9090\",\n",
    "    fee_minimum_gas_price=1,\n",
    "    fee_denomination=\"orai\",\n",
    "    staking_denomination=\"orai\",\n",
    ") \n",
    "client = LedgerClient(cfg)"
   ]
  },
  {
   "cell_type": "code",
   "execution_count": 29,
   "metadata": {},
   "outputs": [],
   "source": [
    "from cosmpy.aerial.wallet import LocalWallet\n",
    "from cosmpy.crypto.keypairs import PrivateKey\n",
    "\n",
    "\n",
    "\n",
    "from bip_utils import Bip39SeedGenerator, Bip44, Bip44Coins\n",
    "\n",
    "seed_bytes = Bip39SeedGenerator(PRIVATE_KEY).Generate()\n",
    "bip44_def_ctx = Bip44.FromSeed(seed_bytes, Bip44Coins.COSMOS).DeriveDefaultPath()\n",
    "\n",
    "wallet = LocalWallet(PrivateKey(bip44_def_ctx.PrivateKey().Raw().ToBytes()))"
   ]
  },
  {
   "cell_type": "code",
   "execution_count": 30,
   "metadata": {},
   "outputs": [
    {
     "name": "stdout",
     "output_type": "stream",
     "text": [
      "Address: fetch1zze9d5xk2xa2g44xdf7g9eltlzvn5hm2hsklgj\n"
     ]
    }
   ],
   "source": [
    "address = wallet.address()\n",
    "print(f\"Address: {address}\")\n",
    "balance = client.query_bank_balance(address)"
   ]
  },
  {
   "cell_type": "code",
   "execution_count": null,
   "metadata": {},
   "outputs": [],
   "source": []
  }
 ],
 "metadata": {
  "kernelspec": {
   "display_name": "Python 3.8.0 64-bit",
   "language": "python",
   "name": "python3"
  },
  "language_info": {
   "codemirror_mode": {
    "name": "ipython",
    "version": 3
   },
   "file_extension": ".py",
   "mimetype": "text/x-python",
   "name": "python",
   "nbconvert_exporter": "python",
   "pygments_lexer": "ipython3",
   "version": "3.8.0"
  },
  "orig_nbformat": 4,
  "vscode": {
   "interpreter": {
    "hash": "aee8b7b246df8f9039afb4144a1f6fd8d2ca17a180786b69acc140d282b71a49"
   }
  }
 },
 "nbformat": 4,
 "nbformat_minor": 2
}
