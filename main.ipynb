{
 "cells": [
  {
   "cell_type": "code",
   "execution_count": 2,
   "metadata": {},
   "outputs": [],
   "source": [
    "PRIVATE_KEY = open('.env','r',encoding='utf-8').read()"
   ]
  },
  {
   "cell_type": "code",
   "execution_count": 4,
   "metadata": {},
   "outputs": [
    {
     "ename": "MalformedPointError",
     "evalue": "Invalid length of private key, received 87, expected 32",
     "output_type": "error",
     "traceback": [
      "\u001b[0;31m---------------------------------------------------------------------------\u001b[0m",
      "\u001b[0;31mMalformedPointError\u001b[0m                       Traceback (most recent call last)",
      "Cell \u001b[0;32mIn [4], line 8\u001b[0m\n\u001b[1;32m      3\u001b[0m \u001b[39mfrom\u001b[39;00m \u001b[39mtorch\u001b[39;00m \u001b[39mimport\u001b[39;00m PRIVATE_OPS\n\u001b[1;32m      7\u001b[0m \u001b[39m# To recover an existing private key:\u001b[39;00m\n\u001b[0;32m----> 8\u001b[0m private_key \u001b[39m=\u001b[39m PrivateKey(PRIVATE_KEY)\n",
      "File \u001b[0;32m/Library/Frameworks/Python.framework/Versions/3.8/lib/python3.8/site-packages/cosmpy/crypto/keypairs.py:150\u001b[0m, in \u001b[0;36mPrivateKey.__init__\u001b[0;34m(self, private_key)\u001b[0m\n\u001b[1;32m    148\u001b[0m \u001b[39melif\u001b[39;00m \u001b[39misinstance\u001b[39m(private_key, \u001b[39mstr\u001b[39m):\n\u001b[1;32m    149\u001b[0m     raw_private_key \u001b[39m=\u001b[39m _base64_decode(private_key)\n\u001b[0;32m--> 150\u001b[0m     \u001b[39mself\u001b[39m\u001b[39m.\u001b[39m_signing_key \u001b[39m=\u001b[39m ecdsa\u001b[39m.\u001b[39;49mSigningKey\u001b[39m.\u001b[39;49mfrom_string(\n\u001b[1;32m    151\u001b[0m         raw_private_key, curve\u001b[39m=\u001b[39;49m\u001b[39mself\u001b[39;49m\u001b[39m.\u001b[39;49mcurve, hashfunc\u001b[39m=\u001b[39;49m\u001b[39mself\u001b[39;49m\u001b[39m.\u001b[39;49mhash_function\n\u001b[1;32m    152\u001b[0m     )\n\u001b[1;32m    154\u001b[0m \u001b[39melse\u001b[39;00m:\n\u001b[1;32m    155\u001b[0m     \u001b[39mraise\u001b[39;00m \u001b[39mRuntimeError\u001b[39;00m(\u001b[39m\"\u001b[39m\u001b[39mUnable to load private key from input\u001b[39m\u001b[39m\"\u001b[39m)\n",
      "File \u001b[0;32m/Library/Frameworks/Python.framework/Versions/3.8/lib/python3.8/site-packages/ecdsa/keys.py:901\u001b[0m, in \u001b[0;36mSigningKey.from_string\u001b[0;34m(cls, string, curve, hashfunc)\u001b[0m\n\u001b[1;32m    898\u001b[0m string \u001b[39m=\u001b[39m normalise_bytes(string)\n\u001b[1;32m    900\u001b[0m \u001b[39mif\u001b[39;00m \u001b[39mlen\u001b[39m(string) \u001b[39m!=\u001b[39m curve\u001b[39m.\u001b[39mbaselen:\n\u001b[0;32m--> 901\u001b[0m     \u001b[39mraise\u001b[39;00m MalformedPointError(\n\u001b[1;32m    902\u001b[0m         \u001b[39m\"\u001b[39m\u001b[39mInvalid length of private key, received \u001b[39m\u001b[39m{0}\u001b[39;00m\u001b[39m, \u001b[39m\u001b[39m\"\u001b[39m\n\u001b[1;32m    903\u001b[0m         \u001b[39m\"\u001b[39m\u001b[39mexpected \u001b[39m\u001b[39m{1}\u001b[39;00m\u001b[39m\"\u001b[39m\u001b[39m.\u001b[39mformat(\u001b[39mlen\u001b[39m(string), curve\u001b[39m.\u001b[39mbaselen)\n\u001b[1;32m    904\u001b[0m     )\n\u001b[1;32m    905\u001b[0m \u001b[39mif\u001b[39;00m \u001b[39misinstance\u001b[39m(curve\u001b[39m.\u001b[39mcurve, CurveEdTw):\n\u001b[1;32m    906\u001b[0m     \u001b[39mself\u001b[39m \u001b[39m=\u001b[39m \u001b[39mcls\u001b[39m(_error__please_use_generate\u001b[39m=\u001b[39m\u001b[39mTrue\u001b[39;00m)\n",
      "\u001b[0;31mMalformedPointError\u001b[0m: Invalid length of private key, received 87, expected 32"
     ]
    }
   ],
   "source": [
    "from cosmpy.aerial.wallet import LocalWallet\n",
    "from cosmpy.crypto.keypairs import PrivateKey\n",
    "from torch import PRIVATE_OPS\n",
    "\n",
    "\n",
    "\n",
    "from bip_utils import Bip39SeedGenerator, Bip44, Bip44Coins\n",
    "\n",
    "seed_bytes = Bip39SeedGenerator(PRIVATE_KEY).Generate()\n",
    "bip44_def_ctx = Bip44.FromSeed(seed_bytes, Bip44Coins.COSMOS).DeriveDefaultPath()\n",
    "\n",
    "wallet = LocalWallet(PrivateKey(bip44_def_ctx.PrivateKey().Raw().ToBytes()))"
   ]
  },
  {
   "cell_type": "code",
   "execution_count": null,
   "metadata": {},
   "outputs": [],
   "source": []
  }
 ],
 "metadata": {
  "kernelspec": {
   "display_name": "Python 3.8.0 64-bit",
   "language": "python",
   "name": "python3"
  },
  "language_info": {
   "codemirror_mode": {
    "name": "ipython",
    "version": 3
   },
   "file_extension": ".py",
   "mimetype": "text/x-python",
   "name": "python",
   "nbconvert_exporter": "python",
   "pygments_lexer": "ipython3",
   "version": "3.8.0"
  },
  "orig_nbformat": 4,
  "vscode": {
   "interpreter": {
    "hash": "aee8b7b246df8f9039afb4144a1f6fd8d2ca17a180786b69acc140d282b71a49"
   }
  }
 },
 "nbformat": 4,
 "nbformat_minor": 2
}
